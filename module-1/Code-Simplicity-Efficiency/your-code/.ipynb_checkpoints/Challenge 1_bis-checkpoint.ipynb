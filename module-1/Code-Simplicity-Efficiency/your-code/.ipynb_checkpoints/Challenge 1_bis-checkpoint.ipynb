{
 "cells": [
  {
   "cell_type": "code",
   "execution_count": null,
   "metadata": {},
   "outputs": [
    {
     "name": "stdout",
     "output_type": "stream",
     "text": [
      "Welcome to this calculator!\n",
      "It can add and subtract whole numbers from zero to five\n",
      "Please choose your first number (zero to five): 9\n",
      "What do you want to do? plus or minus: +\n",
      "Please choose your second number (zero to five): 6\n",
      "Please choose your first number (zero to five): 7\n",
      "2\n",
      "What do you want to do? plus (+) or minus (-): Z\n",
      "Please choose your second number (zero to five): Z\n"
     ]
    }
   ],
   "source": [
    "#Challenge 1\n",
    "\n",
    "\"\"\"\n",
    "This is a dumb calculator that can add and subtract whole numbers from zero to five.\n",
    "When you run the code, you are prompted to enter two numbers (in the form of English\n",
    "word instead of number) and the operator sign (also in the form of English word).\n",
    "The code will perform the calculation and give the result if your input is what it\n",
    "expects.\n",
    "\n",
    "The code is very long and messy. Refactor it according to what you have learned about\n",
    "code simplicity and efficiency.\n",
    "\"\"\"\n",
    "\n",
    "print('Welcome to this calculator!')\n",
    "print('It can add and subtract whole numbers from zero to five')\n",
    "a = input('Please choose your first number (zero to five): ')\n",
    "b = input('What do you want to do? plus or minus: ')\n",
    "c = input('Please choose your second number (zero to five): ')\n",
    "\n",
    "choice = {'one' : 1, 'two' : 2, 'three' : 3, 'four' : 4, 'five' : 5}\n",
    "\n",
    "a = input('Please choose your first number (zero to five): ') \n",
    "while a not in choice:\n",
    "    a = input('Please choose your first number (zero to five): ')   \n",
    "    \n",
    "b = input('What do you want to do? plus (+) or minus (-): ')\n",
    "\n",
    "c = input('Please choose your second number (zero to five): ')\n",
    "while c not in choice:\n",
    "    c = input('Please choose your second number (zero to five): ')"
   ]
  },
  {
   "cell_type": "code",
   "execution_count": 3,
   "metadata": {},
   "outputs": [
    {
     "name": "stdout",
     "output_type": "stream",
     "text": [
      "25\n"
     ]
    }
   ],
   "source": [
    "d = []\n",
    "\n",
    "if b == '+':\n",
    "   d = a + c\n",
    "\n",
    "if b == '-':\n",
    "    d = a - c\n",
    "    \n",
    "print(d)"
   ]
  },
  {
   "cell_type": "code",
   "execution_count": null,
   "metadata": {},
   "outputs": [],
   "source": [
    "print(\"Thanks for using this calculator, goodbye :)\")"
   ]
  }
 ],
 "metadata": {
  "kernelspec": {
   "display_name": "Python 3",
   "language": "python",
   "name": "python3"
  },
  "language_info": {
   "codemirror_mode": {
    "name": "ipython",
    "version": 3
   },
   "file_extension": ".py",
   "mimetype": "text/x-python",
   "name": "python",
   "nbconvert_exporter": "python",
   "pygments_lexer": "ipython3",
   "version": "3.7.6"
  }
 },
 "nbformat": 4,
 "nbformat_minor": 4
}
